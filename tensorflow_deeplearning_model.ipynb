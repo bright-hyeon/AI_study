{
 "cells": [
  {
   "cell_type": "markdown",
   "id": "c684f287",
   "metadata": {},
   "source": [
    "## SAVE Deep learning model(.h5)"
   ]
  },
  {
   "cell_type": "code",
   "execution_count": 3,
   "id": "e0e9873f",
   "metadata": {},
   "outputs": [],
   "source": [
    "import os"
   ]
  },
  {
   "cell_type": "code",
   "execution_count": 4,
   "id": "b0cca2a8",
   "metadata": {},
   "outputs": [],
   "source": [
    "import numpy as np"
   ]
  },
  {
   "cell_type": "code",
   "execution_count": 5,
   "id": "2bac40f1",
   "metadata": {},
   "outputs": [],
   "source": [
    "import tensorflow as tf"
   ]
  },
  {
   "cell_type": "code",
   "execution_count": 6,
   "id": "fcfb1273",
   "metadata": {},
   "outputs": [],
   "source": [
    "from tensorflow import keras"
   ]
  },
  {
   "cell_type": "code",
   "execution_count": 7,
   "id": "913c030e",
   "metadata": {},
   "outputs": [],
   "source": [
    "# tf 안의 keras안에서 datasets 중 mnist 라는 데이터 셋을 load 하여 2개의 튜플 (train, test)에 각각 넣겠다.\n",
    "(train_images, train_labels), (test_images, test_labels) = tf.keras.datasets.mnist.load_data()"
   ]
  },
  {
   "cell_type": "code",
   "execution_count": 8,
   "id": "800c61a7",
   "metadata": {},
   "outputs": [
    {
     "data": {
      "text/plain": [
       "(60000, 28, 28)"
      ]
     },
     "execution_count": 8,
     "metadata": {},
     "output_type": "execute_result"
    }
   ],
   "source": [
    "train_images.shape"
   ]
  },
  {
   "cell_type": "code",
   "execution_count": 9,
   "id": "58c67570",
   "metadata": {},
   "outputs": [
    {
     "data": {
      "text/plain": [
       "(10000, 28, 28)"
      ]
     },
     "execution_count": 9,
     "metadata": {},
     "output_type": "execute_result"
    }
   ],
   "source": [
    "test_images.shape"
   ]
  },
  {
   "cell_type": "code",
   "execution_count": 10,
   "id": "4a72d6f7",
   "metadata": {},
   "outputs": [
    {
     "data": {
      "text/plain": [
       "0"
      ]
     },
     "execution_count": 10,
     "metadata": {},
     "output_type": "execute_result"
    }
   ],
   "source": [
    "np.min(train_images)"
   ]
  },
  {
   "cell_type": "code",
   "execution_count": 11,
   "id": "afc8d451",
   "metadata": {},
   "outputs": [
    {
     "data": {
      "text/plain": [
       "255"
      ]
     },
     "execution_count": 11,
     "metadata": {},
     "output_type": "execute_result"
    }
   ],
   "source": [
    "np.max(train_images)"
   ]
  },
  {
   "cell_type": "code",
   "execution_count": 12,
   "id": "a8e354e5",
   "metadata": {},
   "outputs": [
    {
     "data": {
      "text/plain": [
       "0"
      ]
     },
     "execution_count": 12,
     "metadata": {},
     "output_type": "execute_result"
    }
   ],
   "source": [
    "np.min(test_images)"
   ]
  },
  {
   "cell_type": "code",
   "execution_count": 13,
   "id": "35042117",
   "metadata": {},
   "outputs": [
    {
     "data": {
      "text/plain": [
       "255"
      ]
     },
     "execution_count": 13,
     "metadata": {},
     "output_type": "execute_result"
    }
   ],
   "source": [
    "np.max(test_images)"
   ]
  },
  {
   "cell_type": "code",
   "execution_count": 14,
   "id": "143b365a",
   "metadata": {},
   "outputs": [],
   "source": [
    "#0과 1로 바꾼 후 실수형으로 바꾸기\n",
    "train_images=train_images.reshape(-1,28*28)/255.0\n",
    "test_images=test_images.reshape(-1, 28*28)/255.0"
   ]
  },
  {
   "cell_type": "code",
   "execution_count": 15,
   "id": "b0bb30cf",
   "metadata": {},
   "outputs": [
    {
     "data": {
      "text/plain": [
       "0.0"
      ]
     },
     "execution_count": 15,
     "metadata": {},
     "output_type": "execute_result"
    }
   ],
   "source": [
    "np.min(test_images)"
   ]
  },
  {
   "cell_type": "code",
   "execution_count": 16,
   "id": "f6d00b15",
   "metadata": {},
   "outputs": [
    {
     "data": {
      "text/plain": [
       "1.0"
      ]
     },
     "execution_count": 16,
     "metadata": {},
     "output_type": "execute_result"
    }
   ],
   "source": [
    "np.max(train_images)"
   ]
  },
  {
   "cell_type": "code",
   "execution_count": 20,
   "id": "163f02f5",
   "metadata": {},
   "outputs": [],
   "source": [
    "#sequential모델 생성. \n",
    "#dropout은 0과 1사이의 값= 바꿔도 됨. dense:10 = 타겟변수가 10개의 카테고리를 갖고있기 때문.\n",
    "model=tf.keras.models.Sequential([\n",
    "    keras.layers.Dense(512, activation = \"relu\",\n",
    "    input_shape = (784,)),\n",
    "    keras.layers.Dropout(0.2),\n",
    "    keras.layers.Dense(10)\n",
    "])"
   ]
  },
  {
   "cell_type": "code",
   "execution_count": 22,
   "id": "085468ac",
   "metadata": {},
   "outputs": [],
   "source": [
    "#모델 compile\n",
    "model.compile(optimizer=\"adam\",\n",
    "             loss=tf.losses.SparseCategoricalCrossentropy(from_logits=True),\n",
    "             metrics = [tf.metrics.SparseCategoricalAccuracy()])"
   ]
  },
  {
   "cell_type": "code",
   "execution_count": 23,
   "id": "88c85272",
   "metadata": {},
   "outputs": [
    {
     "name": "stdout",
     "output_type": "stream",
     "text": [
      "Model: \"sequential_2\"\n",
      "_________________________________________________________________\n",
      " Layer (type)                Output Shape              Param #   \n",
      "=================================================================\n",
      " dense_4 (Dense)             (None, 512)               401920    \n",
      "                                                                 \n",
      " dropout_2 (Dropout)         (None, 512)               0         \n",
      "                                                                 \n",
      " dense_5 (Dense)             (None, 10)                5130      \n",
      "                                                                 \n",
      "=================================================================\n",
      "Total params: 407,050\n",
      "Trainable params: 407,050\n",
      "Non-trainable params: 0\n",
      "_________________________________________________________________\n"
     ]
    }
   ],
   "source": [
    "model.summary()"
   ]
  },
  {
   "cell_type": "code",
   "execution_count": 24,
   "id": "204b2aa9",
   "metadata": {},
   "outputs": [
    {
     "name": "stdout",
     "output_type": "stream",
     "text": [
      "Epoch 1/5\n",
      "1875/1875 [==============================] - 5s 2ms/step - loss: 0.2190 - sparse_categorical_accuracy: 0.9348\n",
      "Epoch 2/5\n",
      "1875/1875 [==============================] - 4s 2ms/step - loss: 0.0962 - sparse_categorical_accuracy: 0.9704\n",
      "Epoch 3/5\n",
      "1875/1875 [==============================] - 4s 2ms/step - loss: 0.0692 - sparse_categorical_accuracy: 0.9785\n",
      "Epoch 4/5\n",
      "1875/1875 [==============================] - 4s 2ms/step - loss: 0.0534 - sparse_categorical_accuracy: 0.9831\n",
      "Epoch 5/5\n",
      "1875/1875 [==============================] - 4s 2ms/step - loss: 0.0425 - sparse_categorical_accuracy: 0.9862\n"
     ]
    },
    {
     "data": {
      "text/plain": [
       "<keras.callbacks.History at 0x2d3527a41f0>"
      ]
     },
     "execution_count": 24,
     "metadata": {},
     "output_type": "execute_result"
    }
   ],
   "source": [
    "#fit model\n",
    "model.fit(train_images, train_labels, epochs =5)"
   ]
  },
  {
   "cell_type": "code",
   "execution_count": 25,
   "id": "6ebc2087",
   "metadata": {},
   "outputs": [],
   "source": [
    "#save the model 딥러닝 모델 \n",
    "model.save(\"my_tensorflow_model.h5\")"
   ]
  },
  {
   "cell_type": "markdown",
   "id": "7f7198ac",
   "metadata": {},
   "source": [
    "## Load the .h5 my_tensorflow_model"
   ]
  },
  {
   "cell_type": "code",
   "execution_count": 26,
   "id": "5db91aad",
   "metadata": {},
   "outputs": [],
   "source": [
    "#모델을 변수에 저장\n",
    "model_new = tf.keras.models.load_model(\"my_tensorflow_model.h5\")"
   ]
  },
  {
   "cell_type": "code",
   "execution_count": 27,
   "id": "1cb9f985",
   "metadata": {},
   "outputs": [
    {
     "name": "stdout",
     "output_type": "stream",
     "text": [
      "Model: \"sequential_2\"\n",
      "_________________________________________________________________\n",
      " Layer (type)                Output Shape              Param #   \n",
      "=================================================================\n",
      " dense_4 (Dense)             (None, 512)               401920    \n",
      "                                                                 \n",
      " dropout_2 (Dropout)         (None, 512)               0         \n",
      "                                                                 \n",
      " dense_5 (Dense)             (None, 10)                5130      \n",
      "                                                                 \n",
      "=================================================================\n",
      "Total params: 407,050\n",
      "Trainable params: 407,050\n",
      "Non-trainable params: 0\n",
      "_________________________________________________________________\n"
     ]
    }
   ],
   "source": [
    "#모델의 아키텍처 보기\n",
    "model_new.summary()"
   ]
  },
  {
   "cell_type": "code",
   "execution_count": 29,
   "id": "6f48e73e",
   "metadata": {},
   "outputs": [
    {
     "name": "stdout",
     "output_type": "stream",
     "text": [
      "313/313 - 0s - loss: 0.0990 - sparse_categorical_accuracy: 0.9737 - 431ms/epoch - 1ms/step\n"
     ]
    }
   ],
   "source": [
    "#test데이터 셋을 활용하여 모델의 정확도 측정\n",
    "loss, acc = model_new.evaluate(test_images, test_labels, verbose= 2)"
   ]
  },
  {
   "cell_type": "code",
   "execution_count": 30,
   "id": "f314229d",
   "metadata": {},
   "outputs": [
    {
     "name": "stdout",
     "output_type": "stream",
     "text": [
      "0.09902489185333252\n"
     ]
    }
   ],
   "source": [
    "print(loss)"
   ]
  },
  {
   "cell_type": "code",
   "execution_count": 31,
   "id": "89f3c747",
   "metadata": {},
   "outputs": [
    {
     "name": "stdout",
     "output_type": "stream",
     "text": [
      "0.9736999869346619\n"
     ]
    }
   ],
   "source": [
    "print(acc)"
   ]
  },
  {
   "cell_type": "code",
   "execution_count": null,
   "id": "32947c67",
   "metadata": {},
   "outputs": [],
   "source": []
  }
 ],
 "metadata": {
  "kernelspec": {
   "display_name": "Python 3 (ipykernel)",
   "language": "python",
   "name": "python3"
  },
  "language_info": {
   "codemirror_mode": {
    "name": "ipython",
    "version": 3
   },
   "file_extension": ".py",
   "mimetype": "text/x-python",
   "name": "python",
   "nbconvert_exporter": "python",
   "pygments_lexer": "ipython3",
   "version": "3.9.7"
  }
 },
 "nbformat": 4,
 "nbformat_minor": 5
}
