{
 "cells": [
  {
   "cell_type": "code",
   "execution_count": null,
   "id": "f40f3385",
   "metadata": {},
   "outputs": [],
   "source": [
    "import json\n",
    "import requests\n",
    "from PIL import Image\n",
    "import numpy as np\n",
    "\n",
    "test_image = Image.open('test_image.jpg')\n",
    "pixels = np.array(test_image)/255.0\n",
    "\n",
    "address = 'http://localhost:8501/v1/models/mnist:predict'\n",
    "data = json.dumps({'instances':pixels.tolist()})\n",
    "\n",
    "result = requests.post(address, data=data)\n",
    "predictions = json.loads(str(result.content, 'utf-8'))['predictions']\n",
    "\n",
    "for prediction in predictions:\n",
    "  print(np.argmax(prediction))"
   ]
  },
  {
   "cell_type": "code",
   "execution_count": 1,
   "id": "8106bc15",
   "metadata": {},
   "outputs": [],
   "source": [
    "import json\n",
    "import requests\n",
    "from PIL import Image\n",
    "import numpy as np"
   ]
  },
  {
   "cell_type": "code",
   "execution_count": 3,
   "id": "92d21f00",
   "metadata": {},
   "outputs": [],
   "source": [
    "test_image = Image.open('test_image.jpg')\n",
    "pixels = np.array(test_image)/255.0"
   ]
  },
  {
   "cell_type": "code",
   "execution_count": 4,
   "id": "486fdf78",
   "metadata": {},
   "outputs": [
    {
     "ename": "SyntaxError",
     "evalue": "(unicode error) 'unicodeescape' codec can't decode bytes in position 2-3: truncated \\UXXXXXXXX escape (Temp/ipykernel_13376/3598006866.py, line 1)",
     "output_type": "error",
     "traceback": [
      "\u001b[1;36m  File \u001b[1;32m\"C:\\Users\\miso\\AppData\\Local\\Temp/ipykernel_13376/3598006866.py\"\u001b[1;36m, line \u001b[1;32m1\u001b[0m\n\u001b[1;33m    address = 'C:\\Users\\miso\\python_AI\\AI_study/mnist:predict'\u001b[0m\n\u001b[1;37m                                                              ^\u001b[0m\n\u001b[1;31mSyntaxError\u001b[0m\u001b[1;31m:\u001b[0m (unicode error) 'unicodeescape' codec can't decode bytes in position 2-3: truncated \\UXXXXXXXX escape\n"
     ]
    }
   ],
   "source": [
    "address = 'C:\\Users\\miso\\python_AI\\AI_study/mnist:predict'\n",
    "data = json.dumps({'instances':pixels.tolist()})"
   ]
  },
  {
   "cell_type": "code",
   "execution_count": null,
   "id": "d94bb1c0",
   "metadata": {},
   "outputs": [],
   "source": []
  },
  {
   "cell_type": "code",
   "execution_count": null,
   "id": "b591e52e",
   "metadata": {},
   "outputs": [],
   "source": []
  },
  {
   "cell_type": "code",
   "execution_count": null,
   "id": "44a92c8a",
   "metadata": {},
   "outputs": [],
   "source": []
  },
  {
   "cell_type": "code",
   "execution_count": null,
   "id": "d44d764d",
   "metadata": {},
   "outputs": [],
   "source": []
  },
  {
   "cell_type": "code",
   "execution_count": null,
   "id": "063d64d8",
   "metadata": {},
   "outputs": [],
   "source": []
  }
 ],
 "metadata": {
  "kernelspec": {
   "display_name": "Python 3 (ipykernel)",
   "language": "python",
   "name": "python3"
  },
  "language_info": {
   "codemirror_mode": {
    "name": "ipython",
    "version": 3
   },
   "file_extension": ".py",
   "mimetype": "text/x-python",
   "name": "python",
   "nbconvert_exporter": "python",
   "pygments_lexer": "ipython3",
   "version": "3.9.7"
  }
 },
 "nbformat": 4,
 "nbformat_minor": 5
}
